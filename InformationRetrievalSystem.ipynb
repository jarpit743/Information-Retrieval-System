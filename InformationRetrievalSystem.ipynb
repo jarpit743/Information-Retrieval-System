{
 "cells": [
  {
   "cell_type": "markdown",
   "id": "b83bea46",
   "metadata": {},
   "source": [
    "## Information Retrieval System using Word2Vec Model and vector Space Model\n",
    "\n",
    "<pre>\n",
    "Group Members:\n",
    "    Elishben Manojbhai Baraiya : 21ucs077\n",
    "    Arpit Jain : 21ucs031\n",
    "</pre>"
   ]
  },
  {
   "cell_type": "markdown",
   "id": "fbbfc253",
   "metadata": {},
   "source": [
    "<h4>1. Loading the cran1400 dataset</h4>"
   ]
  },
  {
   "cell_type": "code",
   "execution_count": 3,
   "id": "e921990d",
   "metadata": {},
   "outputs": [
    {
     "name": "stdout",
     "output_type": "stream",
     "text": [
      "Requirement already satisfied: gensim in c:\\users\\elish m baraiya\\anaconda3\\lib\\site-packages (4.1.2)\n",
      "Requirement already satisfied: numpy>=1.17.0 in c:\\users\\elish m baraiya\\anaconda3\\lib\\site-packages (from gensim) (1.21.5)\n",
      "Requirement already satisfied: smart-open>=1.8.1 in c:\\users\\elish m baraiya\\anaconda3\\lib\\site-packages (from gensim) (5.2.1)\n",
      "Requirement already satisfied: scipy>=0.18.1 in c:\\users\\elish m baraiya\\anaconda3\\lib\\site-packages (from gensim) (1.9.1)\n"
     ]
    }
   ],
   "source": [
    "!pip install gensim"
   ]
  },
  {
   "cell_type": "code",
   "execution_count": 43,
   "id": "3448ad62",
   "metadata": {},
   "outputs": [],
   "source": [
    "import gensim\n",
    "import pandas as pd"
   ]
  },
  {
   "cell_type": "code",
   "execution_count": 44,
   "id": "fb0c2b75",
   "metadata": {},
   "outputs": [],
   "source": [
    "df = pd.read_xml(r\"C:\\Users\\ELISH M BARAIYA\\OneDrive\\Desktop\\cran1400\\cran.all.1400.xml\",xpath='//doc')"
   ]
  },
  {
   "cell_type": "code",
   "execution_count": 45,
   "id": "d593cad5",
   "metadata": {},
   "outputs": [
    {
     "name": "stdout",
     "output_type": "stream",
     "text": [
      "<class 'pandas.core.frame.DataFrame'>\n",
      "RangeIndex: 1400 entries, 0 to 1399\n",
      "Data columns (total 5 columns):\n",
      " #   Column  Non-Null Count  Dtype \n",
      "---  ------  --------------  ----- \n",
      " 0   docno   1400 non-null   int64 \n",
      " 1   title   1398 non-null   object\n",
      " 2   author  1347 non-null   object\n",
      " 3   bib     1330 non-null   object\n",
      " 4   text    1398 non-null   object\n",
      "dtypes: int64(1), object(4)\n",
      "memory usage: 54.8+ KB\n"
     ]
    }
   ],
   "source": [
    "df.info()"
   ]
  },
  {
   "cell_type": "code",
   "execution_count": 46,
   "id": "172031d1",
   "metadata": {},
   "outputs": [
    {
     "data": {
      "text/html": [
       "<div>\n",
       "<style scoped>\n",
       "    .dataframe tbody tr th:only-of-type {\n",
       "        vertical-align: middle;\n",
       "    }\n",
       "\n",
       "    .dataframe tbody tr th {\n",
       "        vertical-align: top;\n",
       "    }\n",
       "\n",
       "    .dataframe thead th {\n",
       "        text-align: right;\n",
       "    }\n",
       "</style>\n",
       "<table border=\"1\" class=\"dataframe\">\n",
       "  <thead>\n",
       "    <tr style=\"text-align: right;\">\n",
       "      <th></th>\n",
       "      <th>docno</th>\n",
       "      <th>title</th>\n",
       "      <th>author</th>\n",
       "      <th>bib</th>\n",
       "      <th>text</th>\n",
       "    </tr>\n",
       "  </thead>\n",
       "  <tbody>\n",
       "    <tr>\n",
       "      <th>0</th>\n",
       "      <td>1</td>\n",
       "      <td>experimental investigation of the aerodynamics...</td>\n",
       "      <td>brenckman,m.</td>\n",
       "      <td>j. ae. scs. 25, 1958, 324.</td>\n",
       "      <td>experimental investigation of the aerodynamics...</td>\n",
       "    </tr>\n",
       "    <tr>\n",
       "      <th>1</th>\n",
       "      <td>2</td>\n",
       "      <td>simple shear flow past a flat plate in an inco...</td>\n",
       "      <td>ting-yili</td>\n",
       "      <td>department of aeronautical engineering, rensse...</td>\n",
       "      <td>simple shear flow past a flat plate in an inco...</td>\n",
       "    </tr>\n",
       "    <tr>\n",
       "      <th>2</th>\n",
       "      <td>3</td>\n",
       "      <td>the boundary layer in simple shear flow past a...</td>\n",
       "      <td>m. b. glauert</td>\n",
       "      <td>department of mathematics, university of manch...</td>\n",
       "      <td>the boundary layer in simple shear flow past a...</td>\n",
       "    </tr>\n",
       "    <tr>\n",
       "      <th>3</th>\n",
       "      <td>4</td>\n",
       "      <td>approximate solutions of the incompressible la...</td>\n",
       "      <td>yen,k.t.</td>\n",
       "      <td>j. ae. scs. 22, 1955, 728.</td>\n",
       "      <td>approximate solutions of the incompressible la...</td>\n",
       "    </tr>\n",
       "    <tr>\n",
       "      <th>4</th>\n",
       "      <td>5</td>\n",
       "      <td>one-dimensional transient heat conduction into...</td>\n",
       "      <td>wasserman,b.</td>\n",
       "      <td>j. ae. scs. 24, 1957, 924.</td>\n",
       "      <td>one-dimensional transient heat conduction into...</td>\n",
       "    </tr>\n",
       "  </tbody>\n",
       "</table>\n",
       "</div>"
      ],
      "text/plain": [
       "   docno                                              title         author  \\\n",
       "0      1  experimental investigation of the aerodynamics...   brenckman,m.   \n",
       "1      2  simple shear flow past a flat plate in an inco...      ting-yili   \n",
       "2      3  the boundary layer in simple shear flow past a...  m. b. glauert   \n",
       "3      4  approximate solutions of the incompressible la...       yen,k.t.   \n",
       "4      5  one-dimensional transient heat conduction into...   wasserman,b.   \n",
       "\n",
       "                                                 bib  \\\n",
       "0                         j. ae. scs. 25, 1958, 324.   \n",
       "1  department of aeronautical engineering, rensse...   \n",
       "2  department of mathematics, university of manch...   \n",
       "3                         j. ae. scs. 22, 1955, 728.   \n",
       "4                         j. ae. scs. 24, 1957, 924.   \n",
       "\n",
       "                                                text  \n",
       "0  experimental investigation of the aerodynamics...  \n",
       "1  simple shear flow past a flat plate in an inco...  \n",
       "2  the boundary layer in simple shear flow past a...  \n",
       "3  approximate solutions of the incompressible la...  \n",
       "4  one-dimensional transient heat conduction into...  "
      ]
     },
     "execution_count": 46,
     "metadata": {},
     "output_type": "execute_result"
    }
   ],
   "source": [
    "df.head()"
   ]
  },
  {
   "cell_type": "markdown",
   "id": "74071a8b",
   "metadata": {},
   "source": [
    "<h4>2. Data preprocessing</h4>"
   ]
  },
  {
   "cell_type": "code",
   "execution_count": 47,
   "id": "eeca44b6",
   "metadata": {},
   "outputs": [
    {
     "name": "stdout",
     "output_type": "stream",
     "text": [
      "<class 'pandas.core.frame.DataFrame'>\n",
      "Int64Index: 1327 entries, 0 to 1399\n",
      "Data columns (total 5 columns):\n",
      " #   Column  Non-Null Count  Dtype \n",
      "---  ------  --------------  ----- \n",
      " 0   docno   1327 non-null   int64 \n",
      " 1   title   1327 non-null   object\n",
      " 2   author  1327 non-null   object\n",
      " 3   bib     1327 non-null   object\n",
      " 4   text    1327 non-null   object\n",
      "dtypes: int64(1), object(4)\n",
      "memory usage: 62.2+ KB\n"
     ]
    }
   ],
   "source": [
    "#Data preprocessing\n",
    "#removing null and duplicate values\n",
    "\n",
    "df.drop_duplicates(['text'], inplace=True)\n",
    "df.dropna(inplace=True)\n",
    "df.info()"
   ]
  },
  {
   "cell_type": "code",
   "execution_count": 48,
   "id": "3403a5fb",
   "metadata": {},
   "outputs": [],
   "source": [
    "#further preprocessing\n",
    "#converting all the words to lower case, trimming spaces, removing punctuations,removing stopwords\n",
    "#This would also TOKENIZE the text data\n",
    "\n",
    "text = df.text.apply(gensim.utils.simple_preprocess)"
   ]
  },
  {
   "cell_type": "code",
   "execution_count": 49,
   "id": "bd3e2529",
   "metadata": {},
   "outputs": [
    {
     "data": {
      "text/plain": [
       "0       [experimental, investigation, of, the, aerodyn...\n",
       "1       [simple, shear, flow, past, flat, plate, in, a...\n",
       "2       [the, boundary, layer, in, simple, shear, flow...\n",
       "3       [approximate, solutions, of, the, incompressib...\n",
       "4       [one, dimensional, transient, heat, conduction...\n",
       "                              ...                        \n",
       "1395    [shear, buckling, of, clamped, and, simply, su...\n",
       "1396    [critical, shear, stress, of, an, infinitely, ...\n",
       "1397    [stability, of, rectangular, plates, under, sh...\n",
       "1398    [buckling, of, transverse, stiffened, plates, ...\n",
       "1399    [the, buckling, shear, stress, of, simply, sup...\n",
       "Name: text, Length: 1327, dtype: object"
      ]
     },
     "execution_count": 49,
     "metadata": {},
     "output_type": "execute_result"
    }
   ],
   "source": [
    "text"
   ]
  },
  {
   "cell_type": "code",
   "execution_count": 51,
   "id": "3b4487e8",
   "metadata": {},
   "outputs": [
    {
     "data": {
      "text/plain": [
       "['experimental',\n",
       " 'investigation',\n",
       " 'of',\n",
       " 'the',\n",
       " 'aerodynamics',\n",
       " 'of',\n",
       " 'wing',\n",
       " 'in',\n",
       " 'slipstream',\n",
       " 'an',\n",
       " 'experimental',\n",
       " 'study',\n",
       " 'of',\n",
       " 'wing',\n",
       " 'in',\n",
       " 'propeller',\n",
       " 'slipstream',\n",
       " 'was',\n",
       " 'made',\n",
       " 'in',\n",
       " 'order',\n",
       " 'to',\n",
       " 'determine',\n",
       " 'the',\n",
       " 'spanwise',\n",
       " 'distribution',\n",
       " 'of',\n",
       " 'the',\n",
       " 'lift',\n",
       " 'increase',\n",
       " 'due',\n",
       " 'to',\n",
       " 'slipstream',\n",
       " 'at',\n",
       " 'different',\n",
       " 'angles',\n",
       " 'of',\n",
       " 'attack',\n",
       " 'of',\n",
       " 'the',\n",
       " 'wing',\n",
       " 'and',\n",
       " 'at',\n",
       " 'different',\n",
       " 'free',\n",
       " 'stream',\n",
       " 'to',\n",
       " 'slipstream',\n",
       " 'velocity',\n",
       " 'ratios',\n",
       " 'the',\n",
       " 'results',\n",
       " 'were',\n",
       " 'intended',\n",
       " 'in',\n",
       " 'part',\n",
       " 'as',\n",
       " 'an',\n",
       " 'evaluation',\n",
       " 'basis',\n",
       " 'for',\n",
       " 'different',\n",
       " 'theoretical',\n",
       " 'treatments',\n",
       " 'of',\n",
       " 'this',\n",
       " 'problem',\n",
       " 'the',\n",
       " 'comparative',\n",
       " 'span',\n",
       " 'loading',\n",
       " 'curves',\n",
       " 'together',\n",
       " 'with',\n",
       " 'supporting',\n",
       " 'evidence',\n",
       " 'showed',\n",
       " 'that',\n",
       " 'substantial',\n",
       " 'part',\n",
       " 'of',\n",
       " 'the',\n",
       " 'lift',\n",
       " 'increment',\n",
       " 'produced',\n",
       " 'by',\n",
       " 'the',\n",
       " 'slipstream',\n",
       " 'was',\n",
       " 'due',\n",
       " 'to',\n",
       " 'destalling',\n",
       " 'or',\n",
       " 'boundary',\n",
       " 'layer',\n",
       " 'control',\n",
       " 'effect',\n",
       " 'the',\n",
       " 'integrated',\n",
       " 'remaining',\n",
       " 'lift',\n",
       " 'increment',\n",
       " 'after',\n",
       " 'subtracting',\n",
       " 'this',\n",
       " 'destalling',\n",
       " 'lift',\n",
       " 'was',\n",
       " 'found',\n",
       " 'to',\n",
       " 'agree',\n",
       " 'well',\n",
       " 'with',\n",
       " 'potential',\n",
       " 'flow',\n",
       " 'theory',\n",
       " 'an',\n",
       " 'empirical',\n",
       " 'evaluation',\n",
       " 'of',\n",
       " 'the',\n",
       " 'destalling',\n",
       " 'effects',\n",
       " 'was',\n",
       " 'made',\n",
       " 'for',\n",
       " 'the',\n",
       " 'specific',\n",
       " 'configuration',\n",
       " 'of',\n",
       " 'the',\n",
       " 'experiment']"
      ]
     },
     "execution_count": 51,
     "metadata": {},
     "output_type": "execute_result"
    }
   ],
   "source": [
    "text.loc[0]\n",
    "# len(text.loc[0])"
   ]
  },
  {
   "cell_type": "markdown",
   "id": "566affd5",
   "metadata": {},
   "source": [
    "<h3>3.  Training the Word2Vec Model for this \"Text\" vocabulary</h3>"
   ]
  },
  {
   "cell_type": "code",
   "execution_count": 52,
   "id": "40a7e18a",
   "metadata": {},
   "outputs": [],
   "source": [
    "#initialize the model\n",
    "\n",
    "model = gensim.models.Word2Vec(\n",
    "    window=10,\n",
    "    min_count=3,\n",
    "    workers=4,\n",
    "    vector_size= 50\n",
    ")"
   ]
  },
  {
   "cell_type": "code",
   "execution_count": 53,
   "id": "a012d0b8",
   "metadata": {},
   "outputs": [],
   "source": [
    "#Build Vocabulary\n",
    "\n",
    "model.build_vocab(text, progress_per=1000)"
   ]
  },
  {
   "cell_type": "code",
   "execution_count": 54,
   "id": "90719c7e",
   "metadata": {},
   "outputs": [
    {
     "data": {
      "text/plain": [
       "(726457, 1025970)"
      ]
     },
     "execution_count": 54,
     "metadata": {},
     "output_type": "execute_result"
    }
   ],
   "source": [
    "#Train the Word2Vec Model\n",
    "\n",
    "model.train(text, total_examples=model.corpus_count, epochs=model.epochs)  #5 epochs"
   ]
  },
  {
   "cell_type": "code",
   "execution_count": 55,
   "id": "11e4d774",
   "metadata": {},
   "outputs": [
    {
     "data": {
      "text/plain": [
       "[('data', 0.9600335955619812),\n",
       " ('comparisons', 0.9502967000007629),\n",
       " ('theoretical', 0.9330966472625732),\n",
       " ('comparison', 0.9161534905433655),\n",
       " ('results', 0.9080502986907959),\n",
       " ('with', 0.8765773773193359),\n",
       " ('compared', 0.8756169080734253),\n",
       " ('agreement', 0.8701257705688477),\n",
       " ('experiment', 0.8482123017311096),\n",
       " ('good', 0.8334210515022278)]"
      ]
     },
     "execution_count": 55,
     "metadata": {},
     "output_type": "execute_result"
    }
   ],
   "source": [
    "model.wv.most_similar(\"experimental\")"
   ]
  },
  {
   "cell_type": "code",
   "execution_count": 62,
   "id": "047f07ce",
   "metadata": {},
   "outputs": [
    {
     "data": {
      "text/plain": [
       "array([ 0.24990262, -1.0772752 , -0.6248446 , -0.5061411 ,  0.57066387,\n",
       "       -0.13225883,  1.106657  ,  1.3035014 , -0.9841781 , -1.2751275 ,\n",
       "       -1.2447865 , -1.3815789 , -0.43393826,  0.14868625, -0.33258632,\n",
       "        0.10842728,  0.63976645,  0.6233979 , -0.9170162 , -1.8670677 ,\n",
       "       -0.22196904, -0.71919554,  1.1292198 ,  0.9397207 ,  0.3611687 ,\n",
       "        0.10905188, -1.6938677 ,  0.48813945, -1.0802869 ,  1.1926253 ,\n",
       "       -0.3031827 ,  0.2844896 ,  1.3923923 , -1.1059437 ,  0.9189492 ,\n",
       "        0.24259497,  1.2367389 , -1.6186417 ,  0.54223114, -0.20842344,\n",
       "       -0.35660025,  0.02960539,  0.49434906,  0.9937602 ,  2.3643212 ,\n",
       "       -0.30469355,  0.86303896, -0.9238343 , -0.51666623, -1.1498288 ],\n",
       "      dtype=float32)"
      ]
     },
     "execution_count": 62,
     "metadata": {},
     "output_type": "execute_result"
    }
   ],
   "source": [
    "#word embedding of experimental\n",
    "model.wv[\"experimental\"]"
   ]
  },
  {
   "cell_type": "markdown",
   "id": "4cd1fb12",
   "metadata": {},
   "source": [
    "<h3>4. Using Word Centroid Similarity (WCS) for comparing docs/text articles to queries<h3>"
   ]
  },
  {
   "cell_type": "code",
   "execution_count": 133,
   "id": "01f0aab0",
   "metadata": {},
   "outputs": [
    {
     "data": {
      "text/html": [
       "<div>\n",
       "<style scoped>\n",
       "    .dataframe tbody tr th:only-of-type {\n",
       "        vertical-align: middle;\n",
       "    }\n",
       "\n",
       "    .dataframe tbody tr th {\n",
       "        vertical-align: top;\n",
       "    }\n",
       "\n",
       "    .dataframe thead th {\n",
       "        text-align: right;\n",
       "    }\n",
       "</style>\n",
       "<table border=\"1\" class=\"dataframe\">\n",
       "  <thead>\n",
       "    <tr style=\"text-align: right;\">\n",
       "      <th></th>\n",
       "      <th>docno</th>\n",
       "      <th>title</th>\n",
       "      <th>author</th>\n",
       "      <th>bib</th>\n",
       "      <th>text</th>\n",
       "      <th>centroid</th>\n",
       "    </tr>\n",
       "  </thead>\n",
       "  <tbody>\n",
       "    <tr>\n",
       "      <th>0</th>\n",
       "      <td>1</td>\n",
       "      <td>experimental investigation of the aerodynamics...</td>\n",
       "      <td>brenckman,m.</td>\n",
       "      <td>j. ae. scs. 25, 1958, 324.</td>\n",
       "      <td>experimental investigation of the aerodynamics...</td>\n",
       "      <td>[0.043012932341574044, -0.02259592403248517, -...</td>\n",
       "    </tr>\n",
       "    <tr>\n",
       "      <th>1</th>\n",
       "      <td>2</td>\n",
       "      <td>simple shear flow past a flat plate in an inco...</td>\n",
       "      <td>ting-yili</td>\n",
       "      <td>department of aeronautical engineering, rensse...</td>\n",
       "      <td>simple shear flow past a flat plate in an inco...</td>\n",
       "      <td>[-0.3777397851813622, 0.022243065914760034, -0...</td>\n",
       "    </tr>\n",
       "    <tr>\n",
       "      <th>2</th>\n",
       "      <td>3</td>\n",
       "      <td>the boundary layer in simple shear flow past a...</td>\n",
       "      <td>m. b. glauert</td>\n",
       "      <td>department of mathematics, university of manch...</td>\n",
       "      <td>the boundary layer in simple shear flow past a...</td>\n",
       "      <td>[-0.8501637273778518, -0.0604539200818787, -0....</td>\n",
       "    </tr>\n",
       "    <tr>\n",
       "      <th>3</th>\n",
       "      <td>4</td>\n",
       "      <td>approximate solutions of the incompressible la...</td>\n",
       "      <td>yen,k.t.</td>\n",
       "      <td>j. ae. scs. 22, 1955, 728.</td>\n",
       "      <td>approximate solutions of the incompressible la...</td>\n",
       "      <td>[-0.7219967535148336, -0.06435999639128169, -0...</td>\n",
       "    </tr>\n",
       "    <tr>\n",
       "      <th>4</th>\n",
       "      <td>5</td>\n",
       "      <td>one-dimensional transient heat conduction into...</td>\n",
       "      <td>wasserman,b.</td>\n",
       "      <td>j. ae. scs. 24, 1957, 924.</td>\n",
       "      <td>one-dimensional transient heat conduction into...</td>\n",
       "      <td>[0.03796420577913523, -0.6474427637457848, -0....</td>\n",
       "    </tr>\n",
       "  </tbody>\n",
       "</table>\n",
       "</div>"
      ],
      "text/plain": [
       "   docno                                              title         author  \\\n",
       "0      1  experimental investigation of the aerodynamics...   brenckman,m.   \n",
       "1      2  simple shear flow past a flat plate in an inco...      ting-yili   \n",
       "2      3  the boundary layer in simple shear flow past a...  m. b. glauert   \n",
       "3      4  approximate solutions of the incompressible la...       yen,k.t.   \n",
       "4      5  one-dimensional transient heat conduction into...   wasserman,b.   \n",
       "\n",
       "                                                 bib  \\\n",
       "0                         j. ae. scs. 25, 1958, 324.   \n",
       "1  department of aeronautical engineering, rensse...   \n",
       "2  department of mathematics, university of manch...   \n",
       "3                         j. ae. scs. 22, 1955, 728.   \n",
       "4                         j. ae. scs. 24, 1957, 924.   \n",
       "\n",
       "                                                text  \\\n",
       "0  experimental investigation of the aerodynamics...   \n",
       "1  simple shear flow past a flat plate in an inco...   \n",
       "2  the boundary layer in simple shear flow past a...   \n",
       "3  approximate solutions of the incompressible la...   \n",
       "4  one-dimensional transient heat conduction into...   \n",
       "\n",
       "                                            centroid  \n",
       "0  [0.043012932341574044, -0.02259592403248517, -...  \n",
       "1  [-0.3777397851813622, 0.022243065914760034, -0...  \n",
       "2  [-0.8501637273778518, -0.0604539200818787, -0....  \n",
       "3  [-0.7219967535148336, -0.06435999639128169, -0...  \n",
       "4  [0.03796420577913523, -0.6474427637457848, -0....  "
      ]
     },
     "execution_count": 133,
     "metadata": {},
     "output_type": "execute_result"
    }
   ],
   "source": [
    "#calculate the centeroid for each text article\n",
    "\n",
    "import numpy as np\n",
    "\n",
    "a = [0.0]*50\n",
    "df[\"centroid\"] = [a]*df.shape[0]\n",
    "\n",
    "for index, row in df.iterrows():\n",
    "\n",
    "    centroid = np.array([0.0]*50)\n",
    "    for word in text.loc[index]:\n",
    "#         print(word,end=\" \")\n",
    "        try:\n",
    "            b = model.wv[word]\n",
    "#             print(b,end=\" \")\n",
    "        except:\n",
    "            continue\n",
    "        centroid = np.add(centroid, b)\n",
    "    centroid /= len(text.loc[index])\n",
    "    df.at[index,'centroid'] = centroid.tolist()\n",
    "df.head()"
   ]
  },
  {
   "cell_type": "markdown",
   "id": "06e6ec9c",
   "metadata": {},
   "source": [
    "<h3>5.  Ranking Documents to given Query</h3>"
   ]
  },
  {
   "cell_type": "code",
   "execution_count": 140,
   "id": "5476e517",
   "metadata": {},
   "outputs": [],
   "source": [
    "#This function will compare each text article with given query on basis of cosine simirality \n",
    "#and rank them according to their score\n",
    "\n",
    "#based on word wise similarity of each word of the query\n",
    "# def rank_docs1(model, query, df, num=5) :\n",
    "#     #[(docno.,title,cosine_sim)]\n",
    "#     cosine_list = []\n",
    "    \n",
    "#     a = []\n",
    "#     query = query.split(\" \")\n",
    "#     for q in query:\n",
    "\n",
    "#         try:\n",
    "#             a.append(model.wv[q])\n",
    "#         except:\n",
    "#             continue\n",
    "    \n",
    "#     for index, row in df.iterrows():\n",
    "#         centroid = row['centroid']\n",
    "#         total_sim = 0\n",
    "#         for a_i in a:\n",
    "#             if np.linalg.norm(a_i) == 0 or np.linalg.norm(centroid) == 0:\n",
    "#                 cos_sim = 0 \n",
    "#             else:\n",
    "#                 cos_sim = np.dot(a_i, centroid)/(np.linalg.norm(a_i)*np.linalg.norm(centroid))\n",
    "#             total_sim += cos_sim\n",
    "#         cosine_list.append((row['docno'],row['title'],total_sim)) \n",
    "    \n",
    "    \n",
    "#     cosine_list.sort(key=lambda x:x[2], reverse=True) ## in Descedning order \n",
    "     \n",
    "#     text_list = []\n",
    "#     for item in cosine_list[:num]:\n",
    "#         text_list.append((item[0], item[1], item[2]))\n",
    "#     return text_list"
   ]
  },
  {
   "cell_type": "code",
   "execution_count": 141,
   "id": "94cd4d31",
   "metadata": {},
   "outputs": [],
   "source": [
    "#based on content similarity of the query with that of document i.e comparing centroids of both\n",
    "\n",
    "def rank_docs2(model, query, df, num=5) :\n",
    "    #[(docno.,title,cosine_sim)]\n",
    "    cosine_list = []\n",
    "    \n",
    "    a = []\n",
    "    query = query.split(\" \")\n",
    "    for q in query:\n",
    "        try:\n",
    "            a.append(model.wv[q])\n",
    "        except:\n",
    "            continue\n",
    "    \n",
    "    #compute centroid of query\n",
    "    query_centroid = np.array([0.0]*50)\n",
    "    for b in a:\n",
    "        query_centroid = np.add(query_centroid, b)\n",
    "    query_centroid /= len(a)\n",
    "    \n",
    "    \n",
    "    for index, row in df.iterrows():\n",
    "        centroid = row['centroid']\n",
    "        cos_sim = 0\n",
    "        \n",
    "        if np.linalg.norm(query_centroid) == 0 or np.linalg.norm(centroid) == 0:\n",
    "            cos_sim = 0 \n",
    "        else:\n",
    "            cos_sim = np.dot(query_centroid, centroid)/(np.linalg.norm(query_centroid)*np.linalg.norm(centroid))\n",
    "            \n",
    "        cosine_list.append((row['docno'],row['title'],cos_sim)) \n",
    "    \n",
    "    \n",
    "    cosine_list.sort(key=lambda x:x[2], reverse=True) ## in Descedning order \n",
    "     \n",
    "    text_list = []\n",
    "    for item in cosine_list[:num]:\n",
    "        text_list.append((item[0], item[1], item[2]))\n",
    "    return text_list"
   ]
  },
  {
   "cell_type": "code",
   "execution_count": 142,
   "id": "014a682f",
   "metadata": {},
   "outputs": [],
   "source": [
    "#Loading Query dataset\n",
    "df_query = pd.read_xml(r\"C:\\Users\\ELISH M BARAIYA\\OneDrive\\Desktop\\cran1400\\cran.qry.xml\")"
   ]
  },
  {
   "cell_type": "code",
   "execution_count": 143,
   "id": "447cab29",
   "metadata": {},
   "outputs": [
    {
     "data": {
      "text/html": [
       "<div>\n",
       "<style scoped>\n",
       "    .dataframe tbody tr th:only-of-type {\n",
       "        vertical-align: middle;\n",
       "    }\n",
       "\n",
       "    .dataframe tbody tr th {\n",
       "        vertical-align: top;\n",
       "    }\n",
       "\n",
       "    .dataframe thead th {\n",
       "        text-align: right;\n",
       "    }\n",
       "</style>\n",
       "<table border=\"1\" class=\"dataframe\">\n",
       "  <thead>\n",
       "    <tr style=\"text-align: right;\">\n",
       "      <th></th>\n",
       "      <th>num</th>\n",
       "      <th>title</th>\n",
       "    </tr>\n",
       "  </thead>\n",
       "  <tbody>\n",
       "    <tr>\n",
       "      <th>0</th>\n",
       "      <td>1</td>\n",
       "      <td>what similarity laws must be obeyed when const...</td>\n",
       "    </tr>\n",
       "    <tr>\n",
       "      <th>1</th>\n",
       "      <td>2</td>\n",
       "      <td>what are the structural and aeroelastic proble...</td>\n",
       "    </tr>\n",
       "    <tr>\n",
       "      <th>2</th>\n",
       "      <td>4</td>\n",
       "      <td>what problems of heat conduction in composite ...</td>\n",
       "    </tr>\n",
       "    <tr>\n",
       "      <th>3</th>\n",
       "      <td>8</td>\n",
       "      <td>can a criterion be developed to show empirical...</td>\n",
       "    </tr>\n",
       "    <tr>\n",
       "      <th>4</th>\n",
       "      <td>9</td>\n",
       "      <td>what chemical kinetic system is applicable to ...</td>\n",
       "    </tr>\n",
       "  </tbody>\n",
       "</table>\n",
       "</div>"
      ],
      "text/plain": [
       "   num                                              title\n",
       "0    1  what similarity laws must be obeyed when const...\n",
       "1    2  what are the structural and aeroelastic proble...\n",
       "2    4  what problems of heat conduction in composite ...\n",
       "3    8  can a criterion be developed to show empirical...\n",
       "4    9  what chemical kinetic system is applicable to ..."
      ]
     },
     "execution_count": 143,
     "metadata": {},
     "output_type": "execute_result"
    }
   ],
   "source": [
    "df_query.head()"
   ]
  },
  {
   "cell_type": "code",
   "execution_count": 144,
   "id": "e94d8f71",
   "metadata": {},
   "outputs": [
    {
     "data": {
      "text/plain": [
       "'what similarity laws must be obeyed when constructing aeroelastic models\\nof heated high speed aircraft .'"
      ]
     },
     "execution_count": 144,
     "metadata": {},
     "output_type": "execute_result"
    }
   ],
   "source": [
    "df_query.loc[0]['title']"
   ]
  },
  {
   "cell_type": "code",
   "execution_count": 150,
   "id": "1f8fb15e",
   "metadata": {},
   "outputs": [
    {
     "name": "stdout",
     "output_type": "stream",
     "text": [
      "-----------------------------------------------------------------------------------------------\n",
      "query:  what similarity laws must be obeyed when constructing aeroelastic models\n",
      "of heated high speed aircraft .\n",
      "-----------------------------------------------------------------------------------------------\n",
      "Result\n",
      "(1089, 'aerodynamic characteristics of propeller-driven vtol\\naircraft .', 0.9788541396674001)\n",
      "(1380, 'the problem of obtaining high lift-drag ratios at supersonic speeds .', 0.9775001095245179)\n",
      "(758, 'the lower bound of attainable sonic-boom over-pressure\\nand design methods of approaching this limit .', 0.9757944578353903)\n",
      "(811, 'an investigation of lifting effects on the intensity\\nof sonic booms .', 0.9757718286671818)\n",
      "(172, 'some aerodynamic considerations of nozzle afterbody\\ncombination .', 0.9714469201444036)\n",
      "\n",
      "\n",
      "-----------------------------------------------------------------------------------------------\n",
      "query:  what are the structural and aeroelastic problems associated with flight\n",
      "of high speed aircraft .\n",
      "-----------------------------------------------------------------------------------------------\n",
      "Result\n",
      "(1332, 'calculated spanwise lift distributions, influence functions\\nand influence coefficients for unswept wings in subsonic\\nflow .', 0.9909102714847846)\n",
      "(1334, 'calculated spanwise lift distributions and aerodynamic\\ninfluence coefficients for swept wings in subsonic\\nflow .', 0.9875512098130639)\n",
      "(1331, 'calculated responses of a large sweptwing airplane\\nto continuous turbulence with flight-test comparisons .', 0.9839817147498865)\n",
      "(748, 'subsonic aerodynamic flutter derivatives for wings and control surfaces,\\n /compressible and incompressible flow/ .', 0.9839782638274971)\n",
      "(838, 'bending and compression tests of pressurised ring-stiffened\\ncylinders .', 0.9830029388236523)\n",
      "\n",
      "\n",
      "-----------------------------------------------------------------------------------------------\n",
      "query:  what problems of heat conduction in composite slabs have been solved so\n",
      "far .\n",
      "-----------------------------------------------------------------------------------------------\n",
      "Result\n",
      "(181, 'some problems on heat conduction in stratiform bodies .', 0.9067769437605666)\n",
      "(378, 'engineering relations for friction and heat transfer to surfaces in high\\n velocity flow .', 0.9016635794144225)\n",
      "(270, 'on combined free and forced convection laminar magnetohydrodynamic\\nflow and heat transfer in channels with transverse\\nmagnetic field .', 0.9011200611352322)\n",
      "(1148, 'knudsen flow through a circular capillary .', 0.8974145086953769)\n",
      "(1287, 'progress report on an experiment on the effect of surface\\nflexibility on the stability of laminar flow .', 0.8972601007051811)\n",
      "\n",
      "\n",
      "-----------------------------------------------------------------------------------------------\n",
      "query:  can a criterion be developed to show empirically the validity of flow\n",
      "solutions for chemically reacting gas mixtures based on the simplifying\n",
      "assumption of instantaneous local chemical equilibrium .\n",
      "-----------------------------------------------------------------------------------------------\n",
      "Result\n",
      "(890, \"comments on 'thermal buckling of clamped cylindrical shells' .\", 0.996713671329005)\n",
      "(13, 'similarity laws for stressing heated wings .', 0.995542247285903)\n",
      "(506, \"a note on havelock's shallow-water wave-resistance\\ncurves .\", 0.9954105565825786)\n",
      "(1242, 'some considerations on the laminar stability of time-dependent basic\\nflows .', 0.9950891001792651)\n",
      "(356, 'on optimum nose curves for missiles in the super-aerodynamic\\nregime .', 0.9947287741922533)\n",
      "\n",
      "\n",
      "-----------------------------------------------------------------------------------------------\n",
      "query:  what chemical kinetic system is applicable to hypersonic aerodynamic\n",
      "problems .\n",
      "-----------------------------------------------------------------------------------------------\n",
      "Result\n",
      "(266, 'exact solution of the neumann problem . calculation\\nfor non- circulatory plane and axially symmetric flows\\nabout or within arbitrary boundaries .', 0.9907921783058835)\n",
      "(575, 'atomic recombination in a hypersonic wind tunnel nozzle .', 0.9860260300672196)\n",
      "(428, 'the quasi-cylinder of specified thickness and shell\\nloading in supersonic flow .', 0.9855905308095166)\n",
      "(1295, 'recent advances in nonequilibrium dissociating gasdynamics .', 0.9848532771323681)\n",
      "(153, 'on the steady motion of viscous, incompressible fluids,\\nwith particular reference to a variation principle .', 0.9846712557346239)\n",
      "\n",
      "\n"
     ]
    }
   ],
   "source": [
    "for query in df_query[0:5]['title']:\n",
    "    result_list1=rank_docs1(model, query, df)\n",
    "    result_list2=rank_docs2(model, query, df)\n",
    "    print(\"-----------------------------------------------------------------------------------------------\")\n",
    "    print(\"query: \",query)\n",
    "    print(\"-----------------------------------------------------------------------------------------------\")\n",
    "#     print(\"Result by function 1 i.e Word wise similartiy\")\n",
    "#     for i in range(5):\n",
    "#         print(result_list1[i])\n",
    "\n",
    "    print(\"Result\")\n",
    "    for i in range(5):\n",
    "        print(result_list2[i])\n",
    "    print()\n",
    "    print()\n",
    "    \n",
    "        "
   ]
  },
  {
   "cell_type": "code",
   "execution_count": 151,
   "id": "11b7e355",
   "metadata": {},
   "outputs": [],
   "source": [
    "#saving the model and dataset\n",
    "model.save(\"./model.model\")\n",
    "df.to_pickle(\"./df.pkl\")"
   ]
  },
  {
   "cell_type": "code",
   "execution_count": null,
   "id": "46961b1e",
   "metadata": {},
   "outputs": [],
   "source": []
  }
 ],
 "metadata": {
  "kernelspec": {
   "display_name": "Python 3 (ipykernel)",
   "language": "python",
   "name": "python3"
  },
  "language_info": {
   "codemirror_mode": {
    "name": "ipython",
    "version": 3
   },
   "file_extension": ".py",
   "mimetype": "text/x-python",
   "name": "python",
   "nbconvert_exporter": "python",
   "pygments_lexer": "ipython3",
   "version": "3.9.13"
  }
 },
 "nbformat": 4,
 "nbformat_minor": 5
}
